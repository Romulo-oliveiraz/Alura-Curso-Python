{
 "cells": [
  {
   "cell_type": "code",
   "execution_count": null,
   "metadata": {},
   "outputs": [],
   "source": [
    "# idades = [39,20,32,12,50,24,18,14,90,100]\n",
    "# print(idades)\n",
    "# #list comprehension\n",
    "# idades_no_ano_que_vem = [idade + 1 for idade in idades]\n",
    "# print(idades_no_ano_que_vem)\n",
    "# maiores_de_idade = [idade for idade in idades if idade >= 18]\n",
    "# print(maiores_de_idade)\n",
    "\n",
    "class ContaCorrente:\n",
    "    def __init__(self,codigo):\n",
    "        self.codigo = codigo\n",
    "        self.saldo = 0\n",
    "\n",
    "    def deposita(self,valor):\n",
    "        self.saldo += valor\n",
    "\n",
    "    def __str__(self):\n",
    "        return f\"[>>Código: {self.codigo}, Saldo: {self.saldo}<<]\"\n",
    "    \n",
    "\n",
    "gui = ContaCorrente(15)\n",
    "dani = ContaCorrente(47685)\n",
    "\n",
    "def deposita_all(contas):\n",
    "    for conta in contas:\n",
    "        if type(conta) == ContaCorrente:\n",
    "            conta.deposita(10002) \n",
    "\n",
    "# contas = [gui,dani]\n",
    "#tuplas de objetos:\n",
    "contas = (gui,dani)\n",
    "\n",
    "# contas.insert(0,42)\n",
    "deposita_all(contas)\n",
    "# print(contas[0], contas[1], contas[2])\n",
    "for conta in contas:\n",
    "    print(conta,end=' ')\n",
    "print()\n",
    "\n",
    "# print(contas)\n",
    "# print(gui)\n",
    "# print(dani)\n",
    "\n",
    "#tuplas de objetos:\n",
    "contas = (gui,dani)\n"
   ]
  },
  {
   "cell_type": "code",
   "execution_count": null,
   "metadata": {},
   "outputs": [],
   "source": [
    "from abc import ABCMeta, abstractmethod\n",
    "class Conta(metaclass=ABCMeta):\n",
    "    def __init__(self,codigo):\n",
    "        self._codigo = codigo\n",
    "        self._saldo = 0\n",
    "\n",
    "    def deposita(self,valor):\n",
    "        self._saldo += valor\n",
    "\n",
    "    @abstractmethod\n",
    "    def passa_o_mes(self):\n",
    "        pass\n",
    "\n",
    "    def __str__(self):\n",
    "        return f\"[>>Código: {self._codigo}, Saldo: {self._saldo}<<]\"\n",
    "\n",
    "class ContaCorrente(Conta):\n",
    "\n",
    "    def passa_o_mes(self):\n",
    "        self._saldo -= 2\n",
    "    \n",
    "class ContaPoupanca(Conta):\n",
    "\n",
    "    def passa_o_mes(self):\n",
    "        self._saldo *= 1.01\n",
    "        self._saldo -= 3\n",
    "\n",
    "class ContaInvestimento(Conta):\n",
    "    pass\n",
    "conta01 = ContaCorrente(16)\n",
    "conta01.deposita(1000)\n",
    "conta02 = ContaPoupanca(17)\n",
    "conta02.deposita(1000)\n",
    "contas = [conta01, conta02]\n",
    "for conta in contas:\n",
    "    conta.passa_o_mes() # duck typing\n",
    "    print(conta)\n"
   ]
  },
  {
   "cell_type": "code",
   "execution_count": null,
   "metadata": {},
   "outputs": [],
   "source": [
    "class ContaSalario:\n",
    "    def __init__(self, codigo):\n",
    "        self._codigo = codigo\n",
    "        self._saldo = 0\n",
    "    \n",
    "    def deposita(self, valor):\n",
    "        self._saldo += valor\n",
    "    \n",
    "    def __str__(self):\n",
    "        return f\"[>>Código: {self._codigo}, Saldo: {self._saldo}<<]\"\n",
    "    \n",
    "    def __eq__(self, outra):\n",
    "        #verifica se a outra conta é uma conta salário\n",
    "        if type(outra) != ContaSalario:\n",
    "            return False\n",
    "        return self._codigo == outra._codigo and self._saldo == outra._saldo\n",
    "\n",
    "conta1 = ContaSalario(37)\n",
    "print(conta1)\n",
    "conta2 = ContaSalario(37)\n",
    "print(conta1 == conta2)"
   ]
  },
  {
   "cell_type": "code",
   "execution_count": null,
   "metadata": {},
   "outputs": [],
   "source": [
    "class ContaSalario:\n",
    "    def __init__(self, codigo):\n",
    "        self._codigo = codigo\n",
    "        self._saldo = 0\n",
    "    \n",
    "    def deposita(self, valor):\n",
    "        self._saldo += valor\n",
    "    \n",
    "    def __str__(self):\n",
    "        return f\"[>>Código: {self._codigo}, Saldo: {self._saldo}<<]\"\n",
    "    \n",
    "    def __eq__(self, outra):\n",
    "        #verifica se a outra conta é uma conta salário\n",
    "        if type(outra) != ContaSalario:\n",
    "            return False\n",
    "        return self._codigo == outra._codigo and self._saldo == outra._saldo\n",
    "\n",
    "conta1 = ContaSalario(37)\n",
    "print(conta1)\n",
    "conta2 = ContaSalario(37)\n",
    "print(conta1 == conta2)"
   ]
  },
  {
   "cell_type": "code",
   "execution_count": null,
   "metadata": {},
   "outputs": [],
   "source": [
    "#usado para dar a classe outras comparacoes como <=, >=\n",
    "from functools import total_ordering\n",
    "@total_ordering\n",
    "class ContaSalario:\n",
    "    def __init__(self, codigo):\n",
    "        self._codigo = codigo\n",
    "        self._saldo = 0\n",
    "    \n",
    "    def deposita(self, valor):\n",
    "        self._saldo += valor\n",
    "    \n",
    "    def __str__(self):\n",
    "        return f\"[>>Código: {self._codigo}, Saldo: {self._saldo}<<]\"\n",
    "    \n",
    "    def __eq__(self, outra):\n",
    "        #verifica se a outra conta é uma conta salário\n",
    "        if type(outra) != ContaSalario:\n",
    "            return False\n",
    "        return self._codigo == outra._codigo and self._saldo == outra._saldo\n",
    "\n",
    "    #ordena as contas salário pelo saldo mas se caso o saldo for igual, ordena pelo código.\n",
    "    def __lt__(self, outro):\n",
    "        if self._saldo != outro._saldo:\n",
    "            return self._saldo < outro._saldo\n",
    "        return self._codigo < outro._codigo\n",
    "    \n",
    "conta_gui = ContaSalario(170)\n",
    "conta_dani = ContaSalario(3)\n",
    "conta_paulo = ContaSalario(133)\n",
    "conta_gui.deposita(500)\n",
    "conta_dani.deposita(1000)\n",
    "conta_paulo.deposita(500)\n",
    "contas = [conta_gui, conta_dani, conta_paulo]\n",
    "\n",
    "conta_gui <= conta_dani"
   ]
  },
  {
   "cell_type": "code",
   "execution_count": null,
   "metadata": {},
   "outputs": [],
   "source": [
    "idades = [15, 87, 32, 65, 56, 32, 49, 37]\n",
    "\n",
    "for key, value in enumerate(idades):\n",
    "    print(f\"Idade {value} na posição {key}\")\n",
    "\n",
    "usuarios = [\n",
    "    (\"Guilherme\", 37, 1981),\n",
    "    (\"Daniela\", 31, 1987),\n",
    "    (\"Paulo\", 39, 1979)\n",
    "]\n",
    "\n",
    "# \"_\" mostra que a variável é descartada, para não dar erro ao executar o for\n",
    "for nome, _, _ in usuarios:\n",
    "    print(nome)"
   ]
  },
  {
   "cell_type": "code",
   "execution_count": null,
   "metadata": {},
   "outputs": [],
   "source": [
    "equal = '2002+2002+02'\n",
    "list_op = ['+', '-', '/', 'x', '*']\n",
    "for i in equal:\n",
    "    if i == \"0\":\n",
    "        if equal[equal.find('0')-1] in list_op:\n",
    "            equal = equal.replace('0', '')\n",
    "\n",
    "print(equal)"
   ]
  },
  {
   "cell_type": "code",
   "execution_count": 2,
   "metadata": {},
   "outputs": [
    {
     "data": {
      "text/plain": [
       "{13, 15, 23, 33, 43, 56}"
      ]
     },
     "execution_count": 2,
     "metadata": {},
     "output_type": "execute_result"
    }
   ],
   "source": [
    "usuarios_data_science = [15, 23, 43, 56]\n",
    "usuarios_machine_learning = [13, 23, 33, 43]\n",
    "assistiram = usuarios_data_science.copy()\n",
    "assistiram.extend(usuarios_machine_learning)\n",
    "set(assistiram)"
   ]
  },
  {
   "cell_type": "code",
   "execution_count": 3,
   "metadata": {},
   "outputs": [
    {
     "data": {
      "text/plain": [
       "{13, 15, 23, 33, 43, 56}"
      ]
     },
     "execution_count": 3,
     "metadata": {},
     "output_type": "execute_result"
    }
   ],
   "source": [
    "usuarios_data_science = {15, 23, 43, 56}\n",
    "usuarios_machine_learning = {13, 23, 33, 43}\n",
    "usuarios_data_science | usuarios_machine_learning"
   ]
  },
  {
   "cell_type": "code",
   "execution_count": 6,
   "metadata": {},
   "outputs": [
    {
     "data": {
      "text/plain": [
       "{15, 56}"
      ]
     },
     "execution_count": 6,
     "metadata": {},
     "output_type": "execute_result"
    }
   ],
   "source": [
    "usuarios_data_science & usuarios_machine_learning\n",
    "\n",
    "usuarios_data_science - usuarios_machine_learning\n",
    "\n",
    "usuarios_data_science ^ usuarios_machine_learning"
   ]
  },
  {
   "cell_type": "code",
   "execution_count": 9,
   "metadata": {},
   "outputs": [
    {
     "ename": "AttributeError",
     "evalue": "'frozenset' object has no attribute 'add'",
     "output_type": "error",
     "traceback": [
      "\u001b[1;31m---------------------------------------------------------------------------\u001b[0m",
      "\u001b[1;31mAttributeError\u001b[0m                            Traceback (most recent call last)",
      "\u001b[1;32mc:\\Users\\jun1n\\Desktop\\Alura-PY-GIT\\Alura-Curso-Python\\PyCollections\\main.ipynb Célula: 11\u001b[0m in \u001b[0;36m<cell line: 5>\u001b[1;34m()\u001b[0m\n\u001b[0;32m      <a href='vscode-notebook-cell:/c%3A/Users/jun1n/Desktop/Alura-PY-GIT/Alura-Curso-Python/PyCollections/main.ipynb#X14sZmlsZQ%3D%3D?line=1'>2</a>\u001b[0m usuarios\u001b[39m.\u001b[39madd(\u001b[39m12\u001b[39m)\n\u001b[0;32m      <a href='vscode-notebook-cell:/c%3A/Users/jun1n/Desktop/Alura-PY-GIT/Alura-Curso-Python/PyCollections/main.ipynb#X14sZmlsZQ%3D%3D?line=3'>4</a>\u001b[0m usuarios \u001b[39m=\u001b[39m \u001b[39mfrozenset\u001b[39m(usuarios)\n\u001b[1;32m----> <a href='vscode-notebook-cell:/c%3A/Users/jun1n/Desktop/Alura-PY-GIT/Alura-Curso-Python/PyCollections/main.ipynb#X14sZmlsZQ%3D%3D?line=4'>5</a>\u001b[0m usuarios\u001b[39m.\u001b[39;49madd(\u001b[39m12\u001b[39m)\n",
      "\u001b[1;31mAttributeError\u001b[0m: 'frozenset' object has no attribute 'add'"
     ]
    }
   ],
   "source": [
    "usuarios = {1, 5, 76, 34, 52, 13, 17}\n",
    "usuarios.add(12)\n",
    "\n",
    "usuarios = frozenset(usuarios)\n",
    "usuarios.add(12)"
   ]
  },
  {
   "cell_type": "code",
   "execution_count": 17,
   "metadata": {},
   "outputs": [
    {
     "data": {
      "text/plain": [
       "{'Alura',\n",
       " 'Bem',\n",
       " 'Cursos',\n",
       " 'Guilherme',\n",
       " 'Online',\n",
       " 'Python',\n",
       " 'ao',\n",
       " 'com',\n",
       " 'curso',\n",
       " 'da',\n",
       " 'de',\n",
       " 'e',\n",
       " 'informática',\n",
       " 'o',\n",
       " 'professor',\n",
       " 'tecnologia',\n",
       " 'vindo'}"
      ]
     },
     "execution_count": 17,
     "metadata": {},
     "output_type": "execute_result"
    }
   ],
   "source": [
    "texto = 'Bem vindo ao curso de Python com o professor Guilherme da Alura Cursos Online de tecnologia e informática'\n",
    "#colocou todas as palavras do texto em um conjunto\n",
    "set(texto.split())"
   ]
  },
  {
   "cell_type": "code",
   "execution_count": 20,
   "metadata": {},
   "outputs": [
    {
     "data": {
      "text/plain": [
       "3"
      ]
     },
     "execution_count": 20,
     "metadata": {},
     "output_type": "execute_result"
    }
   ],
   "source": [
    "apariçoes = {\"guilherme\" : 1,\n",
    "\"alura\" : 2,\n",
    "\"curso\" : 3,\n",
    "\"python\" : 4,}\n",
    "apariçoes[\"curso\"]"
   ]
  }
 ],
 "metadata": {
  "kernelspec": {
   "display_name": "Python 3.10.6 64-bit",
   "language": "python",
   "name": "python3"
  },
  "language_info": {
   "codemirror_mode": {
    "name": "ipython",
    "version": 3
   },
   "file_extension": ".py",
   "mimetype": "text/x-python",
   "name": "python",
   "nbconvert_exporter": "python",
   "pygments_lexer": "ipython3",
   "version": "3.10.6"
  },
  "orig_nbformat": 4,
  "vscode": {
   "interpreter": {
    "hash": "84b6ca83bb52a5405eb0aadfcfec8dff3f42daa63e688c1a2697092bf9e15be9"
   }
  }
 },
 "nbformat": 4,
 "nbformat_minor": 2
}
